{
 "cells": [
  {
   "cell_type": "code",
   "execution_count": 2,
   "metadata": {},
   "outputs": [
    {
     "data": {
      "text/plain": [
       "[{'_id': '5', 'source': 'zeef'},\n",
       " {'_id': '8', 'source': 'zeef'},\n",
       " {'_id': '8', 'source': 'zeef'}]"
      ]
     },
     "execution_count": 2,
     "metadata": {},
     "output_type": "execute_result"
    }
   ],
   "source": [
    "l = [{'source':'zeef', '_id':5}, {'source':'zeef', '_id':8}, {'source':'zeef', '_id':8}]\n",
    "l1 = []\n",
    "for elt in l:\n",
    "    elt['_id']=str(elt['_id'])\n",
    "    l1.append(elt)\n",
    "l1\n",
    "\n",
    "l1 = [str(elt['_id']) for elt in l for l in  ]\n"
   ]
  },
  {
   "cell_type": "code",
   "execution_count": null,
   "metadata": {},
   "outputs": [],
   "source": []
  }
 ],
 "metadata": {
  "kernelspec": {
   "display_name": "Python 3",
   "language": "python",
   "name": "python3"
  },
  "language_info": {
   "codemirror_mode": {
    "name": "ipython",
    "version": 3
   },
   "file_extension": ".py",
   "mimetype": "text/x-python",
   "name": "python",
   "nbconvert_exporter": "python",
   "pygments_lexer": "ipython3",
   "version": "3.5.2"
  }
 },
 "nbformat": 4,
 "nbformat_minor": 2
}
